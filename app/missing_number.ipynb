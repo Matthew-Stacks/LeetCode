{
 "cells": [
  {
   "cell_type": "code",
   "execution_count": 1,
   "metadata": {},
   "outputs": [],
   "source": [
    "class Solution:\n",
    "    def missing_number(self, nums: list[int]) -> int:\n",
    "        \"\"\"Given an array nums containing n distinct numbers in the range [0, n], return the only number in the range that is missing from the array.\"\"\"\n",
    "        expected_sum: int = len(nums)*(len(nums)+1)//2\n",
    "        actual_sum: int = sum(nums)\n",
    "        return expected_sum - actual_sum"
   ]
  }
 ],
 "metadata": {
  "kernelspec": {
   "display_name": "Python 3",
   "language": "python",
   "name": "python3"
  },
  "language_info": {
   "name": "python",
   "version": "3.11.0 (main, Oct 24 2022, 18:26:48) [MSC v.1933 64 bit (AMD64)]"
  },
  "orig_nbformat": 4,
  "vscode": {
   "interpreter": {
    "hash": "257315d336f6508fcbe635c8a3ca9dda0783ff9e0bb190c2803d4b86da7d8f80"
   }
  }
 },
 "nbformat": 4,
 "nbformat_minor": 2
}
