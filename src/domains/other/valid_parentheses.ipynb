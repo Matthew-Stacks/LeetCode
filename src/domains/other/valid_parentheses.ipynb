{
 "cells": [
  {
   "cell_type": "markdown",
   "metadata": {
    "tags": [
     "difficulty: easy",
     "domain: other"
    ]
   },
   "source": []
  },
  {
   "cell_type": "code",
   "execution_count": null,
   "metadata": {},
   "outputs": [],
   "source": [
    "class Solution:\n",
    "    def valid_parentheses(self, s: str) -> bool:\n",
    "        stack: list[str] = []\n",
    "        \n",
    "        # push valid opening parens to stack\n",
    "        for paren in s:\n",
    "            if paren in [\"(\", \"[\", \"{\"]:\n",
    "                stack.append(paren)\n",
    "            else:\n",
    "                if not stack:\n",
    "                    return False\n",
    "                \n",
    "                curr = stack.pop()\n",
    "                if curr == \"(\":\n",
    "                    if paren != \")\":\n",
    "                        return False\n",
    "                if curr == \"[\":\n",
    "                    if paren != \"]\":\n",
    "                        return False\n",
    "                if curr == \"{\":\n",
    "                    if paren != \"}\":\n",
    "                        return False\n",
    "                \n",
    "        if stack:\n",
    "            return False\n",
    "        return True"
   ]
  }
 ],
 "metadata": {
  "kernelspec": {
   "display_name": "Python 3",
   "language": "python",
   "name": "python3"
  },
  "language_info": {
   "name": "python",
   "version": "3.11.0 (main, Oct 24 2022, 18:26:48) [MSC v.1933 64 bit (AMD64)]"
  },
  "orig_nbformat": 4,
  "vscode": {
   "interpreter": {
    "hash": "257315d336f6508fcbe635c8a3ca9dda0783ff9e0bb190c2803d4b86da7d8f80"
   }
  }
 },
 "nbformat": 4,
 "nbformat_minor": 2
}
