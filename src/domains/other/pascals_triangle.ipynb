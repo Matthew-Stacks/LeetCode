{
 "cells": [
  {
   "cell_type": "code",
   "execution_count": 1,
   "metadata": {},
   "outputs": [],
   "source": [
    "class Solution:\n",
    "    def generate_pascals_triangle(self, num_rows: int) -> list[list[int]]:\n",
    "        pascal = []\n",
    "        for i in range(num_rows):\n",
    "            row = [None for _ in range(i+1)]\n",
    "            row[0], row[-1] = 1, 1  # type: ignore\n",
    "            for j in range(1, len(row)-1):\n",
    "                row[j] = pascal[i-1][j-1] + pascal[i-1][j]\n",
    "            pascal.append(row)\n",
    "        return pascal"
   ]
  }
 ],
 "metadata": {
  "kernelspec": {
   "display_name": "Python 3",
   "language": "python",
   "name": "python3"
  },
  "language_info": {
   "codemirror_mode": {
    "name": "ipython",
    "version": 3
   },
   "file_extension": ".py",
   "mimetype": "text/x-python",
   "name": "python",
   "nbconvert_exporter": "python",
   "pygments_lexer": "ipython3",
   "version": "3.11.0 (main, Oct 24 2022, 18:26:48) [MSC v.1933 64 bit (AMD64)]"
  },
  "orig_nbformat": 4,
  "vscode": {
   "interpreter": {
    "hash": "257315d336f6508fcbe635c8a3ca9dda0783ff9e0bb190c2803d4b86da7d8f80"
   }
  }
 },
 "nbformat": 4,
 "nbformat_minor": 2
}
