{
 "cells": [
  {
   "cell_type": "code",
   "execution_count": 1,
   "metadata": {},
   "outputs": [],
   "source": [
    "class Solution:\n",
    "    \"\"\"This works, but look at match/case below for some pretty code.\"\"\"\n",
    "    def fizz_buzz(self, n: int) -> list[str]:\n",
    "        answer = []\n",
    "        replacements = {3: 'Fizz', 5: 'Buzz'}\n",
    "\n",
    "        for i in range(1, n + 1):\n",
    "            ans_str = []\n",
    "            for k, v in replacements.items():\n",
    "                if i % k == 0: ans_str.append(replacements[k])\n",
    "            if not ans_str: ans_str.append(str(i))\n",
    "            answer.append(''.join(ans_str))\n",
    "        return answer"
   ]
  },
  {
   "cell_type": "code",
   "execution_count": 2,
   "metadata": {},
   "outputs": [],
   "source": [
    "def fizzBuzz(n: int) -> list[str]:\n",
    "    answer: list[str] = []\n",
    "    for i in range(1, n + 1):\n",
    "        match (i % 3, i % 5):\n",
    "            case (0, 0): answer.append('FizzBuzz')\n",
    "            case (0, _): answer.append('Fizz')\n",
    "            case (_, 0): answer.append('Buzz')\n",
    "            case _: answer.append(str(i))\n",
    "    return answer"
   ]
  }
 ],
 "metadata": {
  "kernelspec": {
   "display_name": "Python 3",
   "language": "python",
   "name": "python3"
  },
  "language_info": {
   "codemirror_mode": {
    "name": "ipython",
    "version": 3
   },
   "file_extension": ".py",
   "mimetype": "text/x-python",
   "name": "python",
   "nbconvert_exporter": "python",
   "pygments_lexer": "ipython3",
   "version": "3.11.0"
  },
  "orig_nbformat": 4,
  "vscode": {
   "interpreter": {
    "hash": "257315d336f6508fcbe635c8a3ca9dda0783ff9e0bb190c2803d4b86da7d8f80"
   }
  }
 },
 "nbformat": 4,
 "nbformat_minor": 2
}
