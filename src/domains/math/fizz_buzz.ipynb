{
 "cells": [
  {
   "cell_type": "code",
   "execution_count": 12,
   "metadata": {},
   "outputs": [],
   "source": [
    "class Solution:\n",
    "    def fizz_buzz(self, n: int) -> list[str]:\n",
    "        answer = []\n",
    "        replacements = {3: 'Fizz', 5: 'Buzz'}\n",
    "        divisors = [3, 5]\n",
    "\n",
    "        for num in range(1, n+1):\n",
    "            num_ans_str = []\n",
    "            for key in divisors:\n",
    "                # If the num is divisible by key,\n",
    "                # then add the corresponding string mapping to current num_ans_str\n",
    "                if num % key == 0:\n",
    "                    num_ans_str.append(replacements[key])\n",
    "\n",
    "            if not num_ans_str:\n",
    "                num_ans_str.append(str(num))\n",
    "\n",
    "            # Append the current answer str to the ans list\n",
    "            answer.append(''.join(num_ans_str))\n",
    "            \n",
    "        return answer"
   ]
  },
  {
   "cell_type": "code",
   "execution_count": 13,
   "metadata": {},
   "outputs": [],
   "source": []
  }
 ],
 "metadata": {
  "kernelspec": {
   "display_name": "Python 3",
   "language": "python",
   "name": "python3"
  },
  "language_info": {
   "codemirror_mode": {
    "name": "ipython",
    "version": 3
   },
   "file_extension": ".py",
   "mimetype": "text/x-python",
   "name": "python",
   "nbconvert_exporter": "python",
   "pygments_lexer": "ipython3",
   "version": "3.11.0 (main, Oct 24 2022, 18:26:48) [MSC v.1933 64 bit (AMD64)]"
  },
  "orig_nbformat": 4,
  "vscode": {
   "interpreter": {
    "hash": "257315d336f6508fcbe635c8a3ca9dda0783ff9e0bb190c2803d4b86da7d8f80"
   }
  }
 },
 "nbformat": 4,
 "nbformat_minor": 2
}
