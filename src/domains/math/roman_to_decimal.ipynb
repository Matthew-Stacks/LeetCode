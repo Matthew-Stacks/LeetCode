{
 "cells": [
  {
   "cell_type": "code",
   "execution_count": 1,
   "metadata": {},
   "outputs": [],
   "source": [
    "class Solution:\n",
    "    def roman_to_decimal(self, s: str) -> int:\n",
    "        val_map: dict[str, int] = {\n",
    "            'I': 1,\n",
    "            'V': 5,\n",
    "            'X': 10,\n",
    "            'L': 50,\n",
    "            'C': 100,\n",
    "            'D': 500,\n",
    "            'M': 1000\n",
    "        }\n",
    "        val: int = 0\n",
    "        last_val: int = 0\n",
    "        for roman_val in reversed(s):\n",
    "            sum_ = (decimal_val := val_map[roman_val]) >= last_val\n",
    "            if sum_:\n",
    "                val += decimal_val\n",
    "                last_val = decimal_val\n",
    "            else:\n",
    "                val -= decimal_val\n",
    "        return val\n"
   ]
  }
 ],
 "metadata": {
  "kernelspec": {
   "display_name": "Python 3",
   "language": "python",
   "name": "python3"
  },
  "language_info": {
   "codemirror_mode": {
    "name": "ipython",
    "version": 3
   },
   "file_extension": ".py",
   "mimetype": "text/x-python",
   "name": "python",
   "nbconvert_exporter": "python",
   "pygments_lexer": "ipython3",
   "version": "3.11.0"
  },
  "orig_nbformat": 4,
  "vscode": {
   "interpreter": {
    "hash": "257315d336f6508fcbe635c8a3ca9dda0783ff9e0bb190c2803d4b86da7d8f80"
   }
  }
 },
 "nbformat": 4,
 "nbformat_minor": 2
}
