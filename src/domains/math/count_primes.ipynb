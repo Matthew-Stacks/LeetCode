{
 "cells": [
  {
   "cell_type": "code",
   "execution_count": null,
   "metadata": {},
   "outputs": [],
   "source": [
    "def count_primes(n: int) -> int:\n",
    "    if n < 2:\n",
    "        return 0\n",
    "    primes = [True] * n\n",
    "    primes[0] = primes[1] = False\n",
    "    for i in range(2, int(n**0.5) + 1):\n",
    "        if primes[i]:\n",
    "            primes[i*i:n:i] = [False] * len(primes[i*i:n:i])\n",
    "    return sum(primes)"
   ]
  },
  {
   "cell_type": "code",
   "execution_count": null,
   "metadata": {},
   "outputs": [],
   "source": [
    "from more_itertools import sieve\n",
    "\n",
    "def count_primes_(n: int) -> int:\n",
    "    if n < 2:\n",
    "        return 0\n",
    "    prime: tuple[int, ...] = tuple(sieve(n))\n",
    "    for i in range(2, int(n**0.5) + 1):\n",
    "        if prime[i]:\n",
    "            prime[i*i:n:i] = [False] * len(prime[i*i:n:i])\n",
    "    return sum(prime)"
   ]
  },
  {
   "cell_type": "code",
   "execution_count": null,
   "metadata": {},
   "outputs": [],
   "source": [
    "from more_itertools import sieve\n",
    "\n",
    "def get_prime_factors(n: int) -> list[int]:\n",
    "    prime: tuple[int, ...] = tuple(sieve(n))\n",
    "    print(f'tuple of all primes: {prime}\\t up to sqrt {n}')\n",
    "    return list(prime) # f_prime\n",
    "\n",
    "get_prime_factors(4)\n",
    "get_prime_factors(9)\n",
    "get_prime_factors(12)\n",
    "get_prime_factors(123)\n",
    "get_prime_factors(5000)"
   ]
  },
  {
   "cell_type": "code",
   "execution_count": 24,
   "metadata": {},
   "outputs": [
    {
     "name": "stdout",
     "output_type": "stream",
     "text": [
      "(2, 3)\n",
      "[]\n",
      "(2, 3, 5)\n",
      "[]\n"
     ]
    }
   ],
   "source": [
    "from more_itertools import sieve\n",
    "\n",
    "def get_prime_factors(n: int) -> list[int]:\n",
    "    all_primes: tuple[int, ...] = tuple(sieve(n//2))\n",
    "    prime_factors: list[int] = []\n",
    "    pointer_: int = 0\n",
    "    while n >= 2:\n",
    "        match divmod(n, all_primes[pointer_]):\n",
    "            case (_, 0): prime_factors[pointer_] = \n",
    "    return prime_factors\n",
    "\n",
    "\n",
    "print(get_prime_factors(9))\n",
    "print(get_prime_factors(12))"
   ]
  },
  {
   "cell_type": "code",
   "execution_count": null,
   "metadata": {},
   "outputs": [],
   "source": [
    "get_prime_factors(4)\n",
    "get_prime_factors(9)\n",
    "get_prime_factors(12)\n",
    "get_prime_factors(123)\n",
    "get_prime_factors(5000)"
   ]
  }
 ],
 "metadata": {
  "kernelspec": {
   "display_name": "Python 3",
   "language": "python",
   "name": "python3"
  },
  "language_info": {
   "codemirror_mode": {
    "name": "ipython",
    "version": 3
   },
   "file_extension": ".py",
   "mimetype": "text/x-python",
   "name": "python",
   "nbconvert_exporter": "python",
   "pygments_lexer": "ipython3",
   "version": "3.11.0 (main, Oct 24 2022, 18:26:48) [MSC v.1933 64 bit (AMD64)]"
  },
  "orig_nbformat": 4,
  "vscode": {
   "interpreter": {
    "hash": "257315d336f6508fcbe635c8a3ca9dda0783ff9e0bb190c2803d4b86da7d8f80"
   }
  }
 },
 "nbformat": 4,
 "nbformat_minor": 2
}
