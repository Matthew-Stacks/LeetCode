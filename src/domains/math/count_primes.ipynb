{
 "cells": [
  {
   "cell_type": "code",
   "execution_count": null,
   "metadata": {},
   "outputs": [],
   "source": [
    "class Solution:\n",
    "    def countPrimes(self, n: int) -> int:\n",
    "        if n < 2:\n",
    "            return 0\n",
    "        primes = [True] * n\n",
    "        primes[0] = primes[1] = False\n",
    "        for i in range(2, int(n**0.5)+1):\n",
    "            if primes[i]:\n",
    "                primes[i*i:n:i] = [False] * len(primes[i*i:n:i])\n",
    "        return sum(primes)"
   ]
  }
 ],
 "metadata": {
  "language_info": {
   "name": "python"
  },
  "orig_nbformat": 4
 },
 "nbformat": 4,
 "nbformat_minor": 2
}
