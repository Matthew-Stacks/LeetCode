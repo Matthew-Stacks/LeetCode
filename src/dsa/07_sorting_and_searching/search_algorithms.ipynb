{
 "cells": [
  {
   "cell_type": "code",
   "execution_count": 1,
   "metadata": {},
   "outputs": [],
   "source": [
    "def linear_search(items: list, item) -> bool:\n",
    "    idx: int = 0\n",
    "    found: bool = False\n",
    "    \n",
    "    while (idx < len(items)) and not found:\n",
    "        if items[idx] == item:\n",
    "            found = True\n",
    "        else:\n",
    "            idx += 1\n",
    "    return found"
   ]
  },
  {
   "cell_type": "code",
   "execution_count": 2,
   "metadata": {},
   "outputs": [],
   "source": [
    "def binary_search(items: list, item) -> bool:\n",
    "    start: int = 0\n",
    "    end: int = len(items) - 1\n",
    "    found: bool = False\n",
    "\n",
    "    while (start < end) and not found:\n",
    "        mid: int = (start + end) // 2\n",
    "        if items[mid] == item:\n",
    "            found = True\n",
    "        elif item < items[mid]:\n",
    "            end = mid - 1\n",
    "        else:\n",
    "            start = mid + 1\n",
    "\n",
    "    return found"
   ]
  },
  {
   "cell_type": "code",
   "execution_count": 3,
   "metadata": {},
   "outputs": [],
   "source": [
    "def interpolation_search(items: list, x: int) -> bool:\n",
    "    start: int = 0\n",
    "    end: int = len(items) - 1\n",
    "    # mid: int = start + int(((end - start) / (items[end] - items[start])) * (x - items[start]))\n",
    "    found: bool = False\n",
    "    \n",
    "    while (start <= end) and (x >= items[start]) and (x <= items[end]):\n",
    "        mid: int = start + int(((end - start) / (items[end] - items[start])) * (x - items[start]))\n",
    "        \n",
    "        if items[mid] == x:\n",
    "            return True\n",
    "        \n",
    "        if items[mid] < x:\n",
    "            start = mid + 1\n",
    "    \n",
    "    return found"
   ]
  },
  {
   "cell_type": "code",
   "execution_count": 2,
   "metadata": {},
   "outputs": [],
   "source": [
    "def depth_first_search(aGraph, root):\n",
    "    stack = [root]\n",
    "    parents = {root: root}\n",
    "    path: list = []\n",
    "    while stack:\n",
    "        print(f'Stack is: {stack}')\n",
    "        vertex = stack.pop(-1)\n",
    "        print(f'Working on {vertex}')\n",
    "        for element in aGraph[vertex]: \n",
    "            if element not in parents:\n",
    "                parents[element] = vertex\n",
    "                stack.append(element)\n",
    "                print(f'Now, adding {element} to the stack')\n",
    "                path.append(f'{parents[vertex]}>{vertex}')\n",
    "    return path[1:]"
   ]
  },
  {
   "cell_type": "code",
   "execution_count": 3,
   "metadata": {},
   "outputs": [],
   "source": [
    "g = {\n",
    "    'Amine': ['Wassim', 'Nick', 'Mike', 'Elena'],\n",
    "    'Wassim': ['Amine', 'Imran'],\n",
    "    'Nick': ['Amine'],\n",
    "    'Mike': ['Amine', 'Mary'],\n",
    "    'Elena': ['Amine'],\n",
    "    'Imran': ['Wassim', 'Steven'],\n",
    "    'Mary': ['Mike'],\n",
    "    'Steven': ['Imran'],\n",
    "}"
   ]
  },
  {
   "cell_type": "code",
   "execution_count": 4,
   "metadata": {},
   "outputs": [
    {
     "name": "stdout",
     "output_type": "stream",
     "text": [
      "Stack is: ['Amine']\n",
      "Working on Amine\n",
      "Now, adding Wassim to the stack\n",
      "Now, adding Nick to the stack\n",
      "Now, adding Mike to the stack\n",
      "Now, adding Elena to the stack\n",
      "Stack is: ['Wassim', 'Nick', 'Mike', 'Elena']\n",
      "Working on Elena\n",
      "Stack is: ['Wassim', 'Nick', 'Mike']\n",
      "Working on Mike\n",
      "Now, adding Mary to the stack\n",
      "Stack is: ['Wassim', 'Nick', 'Mary']\n",
      "Working on Mary\n",
      "Stack is: ['Wassim', 'Nick']\n",
      "Working on Nick\n",
      "Stack is: ['Wassim']\n",
      "Working on Wassim\n",
      "Now, adding Imran to the stack\n",
      "Stack is: ['Imran']\n",
      "Working on Imran\n",
      "Now, adding Steven to the stack\n",
      "Stack is: ['Steven']\n",
      "Working on Steven\n"
     ]
    },
    {
     "data": {
      "text/plain": [
       "['Amine>Amine',\n",
       " 'Amine>Amine',\n",
       " 'Amine>Amine',\n",
       " 'Amine>Mike',\n",
       " 'Amine>Wassim',\n",
       " 'Wassim>Imran']"
      ]
     },
     "execution_count": 4,
     "metadata": {},
     "output_type": "execute_result"
    }
   ],
   "source": [
    "depth_first_search(g, \"Amine\")"
   ]
  }
 ],
 "metadata": {
  "kernelspec": {
   "display_name": "Python 3",
   "language": "python",
   "name": "python3"
  },
  "language_info": {
   "codemirror_mode": {
    "name": "ipython",
    "version": 3
   },
   "file_extension": ".py",
   "mimetype": "text/x-python",
   "name": "python",
   "nbconvert_exporter": "python",
   "pygments_lexer": "ipython3",
   "version": "3.11.1 (tags/v3.11.1:a7a450f, Dec  6 2022, 19:58:39) [MSC v.1934 64 bit (AMD64)]"
  },
  "orig_nbformat": 4,
  "vscode": {
   "interpreter": {
    "hash": "257315d336f6508fcbe635c8a3ca9dda0783ff9e0bb190c2803d4b86da7d8f80"
   }
  }
 },
 "nbformat": 4,
 "nbformat_minor": 2
}
