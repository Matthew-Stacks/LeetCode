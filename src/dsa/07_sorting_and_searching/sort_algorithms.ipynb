{
 "cells": [
  {
   "cell_type": "code",
   "execution_count": null,
   "metadata": {},
   "outputs": [],
   "source": [
    "def bubble_sort(items: list) -> list:\n",
    "    last_item: int = len(items) - 1\n",
    "    for swaps in range(last_item, 0, -1):\n",
    "        for idx in range(swaps):\n",
    "            if items[idx] > items[idx+1]:\n",
    "                items[idx],items[idx+1] = items[idx+1],items[idx]\n",
    "    return items"
   ]
  },
  {
   "cell_type": "code",
   "execution_count": null,
   "metadata": {},
   "outputs": [],
   "source": [
    "def insertion_sort(items: list) -> list:\n",
    "    for i in range(1, len(items)):\n",
    "        j = i - 1\n",
    "        next_element = items[i]\n",
    "        \n",
    "        while (items[j] > next_element) and (j >= 0):\n",
    "            items[j+1] = items[j]\n",
    "            j -= 1\n",
    "        items[j+1] = next_element\n",
    "    return items"
   ]
  },
  {
   "cell_type": "code",
   "execution_count": 2,
   "metadata": {},
   "outputs": [],
   "source": [
    "def merge_sort(items: list) -> list:\n",
    "    if len(items) > 1:\n",
    "        mid: int = len(items) // 2\n",
    "        left: list = items[:mid]\n",
    "        right: list = items[mid:]\n",
    "        \n",
    "        merge_sort(left)\n",
    "        merge_sort(right)\n",
    "        \n",
    "        a, b, c = 0, 0, 0\n",
    "        \n",
    "        while a < len(left) and b < len(right):\n",
    "            if left[a] < right[b]:\n",
    "                items[c] = left[a]\n",
    "                a += 1\n",
    "            else:\n",
    "                items[c] = right[b]\n",
    "                b += 1\n",
    "            c += 1\n",
    "            \n",
    "        while a < len(left):\n",
    "            items[c] = left[a]\n",
    "            a += 1\n",
    "            c += 1\n",
    "            \n",
    "        while b < len(right):\n",
    "            items[c] = right[b]\n",
    "            b += 1\n",
    "            c += 1\n",
    "        \n",
    "    return items"
   ]
  },
  {
   "cell_type": "code",
   "execution_count": 3,
   "metadata": {},
   "outputs": [],
   "source": [
    "def shell_sort(items: list) -> list:\n",
    "    distance: int = len(items) // 2\n",
    "    while distance > 0:\n",
    "        for i in range(distance, len(items)):\n",
    "            tmp = items[i]\n",
    "            j = i\n",
    "            while j >= distance and items[j - distance] > tmp:\n",
    "                items[j] = items[j - distance]\n",
    "                j -= distance\n",
    "            items[j] = tmp\n",
    "        distance //= 2\n",
    "    return items"
   ]
  },
  {
   "cell_type": "code",
   "execution_count": 4,
   "metadata": {},
   "outputs": [],
   "source": [
    "def selection_sort(items: list) -> list:\n",
    "    for fill_slot in range(len(items)-1, 0, -1):         \n",
    "        max_index: int = 0\n",
    "        for location in range(1, fill_slot + 1):\n",
    "            if items[location] > items[max_index]:\n",
    "                max_index = location\n",
    "        items[fill_slot],items[max_index] = items[max_index],items[fill_slot]\n",
    "    return items"
   ]
  }
 ],
 "metadata": {
  "kernelspec": {
   "display_name": "Python 3",
   "language": "python",
   "name": "python3"
  },
  "language_info": {
   "codemirror_mode": {
    "name": "ipython",
    "version": 3
   },
   "file_extension": ".py",
   "mimetype": "text/x-python",
   "name": "python",
   "nbconvert_exporter": "python",
   "pygments_lexer": "ipython3",
   "version": "3.11.0"
  },
  "orig_nbformat": 4,
  "vscode": {
   "interpreter": {
    "hash": "257315d336f6508fcbe635c8a3ca9dda0783ff9e0bb190c2803d4b86da7d8f80"
   }
  }
 },
 "nbformat": 4,
 "nbformat_minor": 2
}
