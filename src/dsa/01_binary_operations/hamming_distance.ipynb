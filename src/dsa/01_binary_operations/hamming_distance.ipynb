{
 "cells": [
  {
   "attachments": {},
   "cell_type": "markdown",
   "metadata": {},
   "source": [
    "# Hamming Distance\n",
    "\n",
    "Return the Hamming distance between two integers x and y.\n",
    "\n",
    "Summary:\n",
    "    The Hamming distance between two integers represents the number of\n",
    "    positions at which the corresponding bits are different.\n",
    "\n",
    "Input:\n",
    "    x: int\n",
    "    y: int\n",
    "\n",
    "Output:\n",
    "    Hamming distance between x and y."
   ]
  },
  {
   "cell_type": "code",
   "execution_count": 1,
   "metadata": {},
   "outputs": [],
   "source": [
    "def hamming_distance(x: int, y: int) -> int:\n",
    "    \"\"\"Return the number of positions at which x and y differ.\n",
    "    \n",
    "    :param x: int\n",
    "    :param y: int\n",
    "    :return: int\n",
    "    \n",
    "    >>> hamming_distance(7, 3)\n",
    "    1\n",
    "    \n",
    "    >>> hamming_distance(255, 255)\n",
    "    0\n",
    "    \n",
    "    >>> hamming_distance(1, 4)\n",
    "    2\n",
    "    \"\"\"\n",
    "    return bin(x ^ y).count('1')"
   ]
  }
 ],
 "metadata": {
  "kernelspec": {
   "display_name": "Python 3",
   "language": "python",
   "name": "python3"
  },
  "language_info": {
   "codemirror_mode": {
    "name": "ipython",
    "version": 3
   },
   "file_extension": ".py",
   "mimetype": "text/x-python",
   "name": "python",
   "nbconvert_exporter": "python",
   "pygments_lexer": "ipython3",
   "version": "3.11.0 (main, Oct 24 2022, 18:26:48) [MSC v.1933 64 bit (AMD64)]"
  },
  "orig_nbformat": 4,
  "vscode": {
   "interpreter": {
    "hash": "257315d336f6508fcbe635c8a3ca9dda0783ff9e0bb190c2803d4b86da7d8f80"
   }
  }
 },
 "nbformat": 4,
 "nbformat_minor": 2
}
