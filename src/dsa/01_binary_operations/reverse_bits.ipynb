{
 "cells": [
  {
   "cell_type": "code",
   "execution_count": 7,
   "metadata": {},
   "outputs": [
    {
     "data": {
      "text/plain": [
       "('0b11111111000000001111111100000000',\n",
       " '0b111111110000000011111111',\n",
       " '0b11110000111100001111000011110000',\n",
       " '0b1111000011110000111100001111',\n",
       " '0b11001100110011001100110011001100',\n",
       " '0b110011001100110011001100110011',\n",
       " '0b10101010101010101010101010101010',\n",
       " '0b1010101010101010101010101010101')"
      ]
     },
     "execution_count": 7,
     "metadata": {},
     "output_type": "execute_result"
    }
   ],
   "source": [
    "# non-functional code. \n",
    "bit_masks: tuple[str, str, str, str, str, str, str, str] = bin(0xff00ff00),bin(0x00ff00ff),bin(0xf0f0f0f0),bin(0x0f0f0f0f),bin(0xcccccccc),bin(0x33333333),bin(0xaaaaaaaa),bin(0x55555555)\n",
    "bit_masks"
   ]
  },
  {
   "cell_type": "code",
   "execution_count": 1,
   "metadata": {},
   "outputs": [],
   "source": [
    "def reverse_bits(n: int) -> int:\n",
    "    \"\"\"Return the reverse bit positions of an integer value.\"\"\"\n",
    "    n = (n >> 16) | (n << 16)\n",
    "    n = ((n & 0xff00ff00) >> 8) | ((n & 0x00ff00ff) << 8)\n",
    "    n = ((n & 0xf0f0f0f0) >> 4) | ((n & 0x0f0f0f0f) << 4)\n",
    "    n = ((n & 0xcccccccc) >> 2) | ((n & 0x33333333) << 2)\n",
    "    n = ((n & 0xaaaaaaaa) >> 1) | ((n & 0x55555555) << 1)\n",
    "    return n"
   ]
  }
 ],
 "metadata": {
  "kernelspec": {
   "display_name": "Python 3",
   "language": "python",
   "name": "python3"
  },
  "language_info": {
   "codemirror_mode": {
    "name": "ipython",
    "version": 3
   },
   "file_extension": ".py",
   "mimetype": "text/x-python",
   "name": "python",
   "nbconvert_exporter": "python",
   "pygments_lexer": "ipython3",
   "version": "3.11.0 (main, Oct 24 2022, 18:26:48) [MSC v.1933 64 bit (AMD64)]"
  },
  "orig_nbformat": 4,
  "vscode": {
   "interpreter": {
    "hash": "257315d336f6508fcbe635c8a3ca9dda0783ff9e0bb190c2803d4b86da7d8f80"
   }
  }
 },
 "nbformat": 4,
 "nbformat_minor": 2
}
