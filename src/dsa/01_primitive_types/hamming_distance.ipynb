{
 "cells": [
  {
   "cell_type": "code",
   "execution_count": null,
   "metadata": {},
   "outputs": [],
   "source": [
    "class Solution:\n",
    "    def hammingDistance(self, x: int, y: int) -> int:\n",
    "        \"\"\"Return the Hamming distance between two integers x and y.\n",
    "        \n",
    "        The Hamming distance between two integers is the number of positions\n",
    "        at which the corresponding bits are different.\n",
    "        \"\"\"\n",
    "        return bin(x ^ y).count('1')"
   ]
  }
 ],
 "metadata": {
  "language_info": {
   "name": "python"
  },
  "orig_nbformat": 4
 },
 "nbformat": 4,
 "nbformat_minor": 2
}
