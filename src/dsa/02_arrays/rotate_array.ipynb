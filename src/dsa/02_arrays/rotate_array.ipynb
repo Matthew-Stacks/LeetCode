{
 "cells": [
  {
   "attachments": {},
   "cell_type": "markdown",
   "metadata": {},
   "source": [
    "# Rotate Array\n",
    "--------------\n",
    "\n",
    "Given an array, rotate the array to the right by k steps, where k is non-negative.\n",
    "\n",
    "## Example 1:\n",
    "-------------\n",
    "\n",
    "Input: nums = [1,2,3,4,5,6,7], k = 3\n",
    "Output: [5,6,7,1,2,3,4]\n",
    "Explanation:\n",
    "rotate 1 steps to the right: [7,1,2,3,4,5,6]\n",
    "rotate 2 steps to the right: [6,7,1,2,3,4,5]\n",
    "rotate 3 steps to the right: [5,6,7,1,2,3,4]\n",
    "\n",
    "## Example 2:\n",
    "-------------\n",
    "\n",
    "Input: nums = [-1,-100,3,99], k = 2\n",
    "Output: [3,99,-1,-100]\n",
    "Explanation: \n",
    "rotate 1 steps to the right: [99,-1,-100,3]\n",
    "rotate 2 steps to the right: [3,99,-1,-100]\n",
    "\n",
    "Follow up:\n",
    "----------\n",
    "\n",
    " - Try to come up with as many solutions as you can. There are at least three different ways to solve this problem.\n",
    " - Could you do it in-place with O(1) extra space?\n",
    "\n",
    "## Note:\n",
    "--------\n",
    "\n",
    "Other discussed solutions were:\n",
    " - Brute force\n",
    " - use extra space\n",
    " - recurse\n",
    "Not discussed:\n",
    " - two pointer\n",
    " - slice (my approach)"
   ]
  },
  {
   "cell_type": "code",
   "execution_count": 1,
   "metadata": {},
   "outputs": [],
   "source": [
    "def rotate(nums: list[int], k: int) -> None:\n",
    "    \"\"\"Do not return anything, modify nums in-place instead.\"\"\"\n",
    "    k %= len(nums)\n",
    "    nums[k:], nums[:k] = nums[:-k], nums[-k:]"
   ]
  }
 ],
 "metadata": {
  "kernelspec": {
   "display_name": "Python 3",
   "language": "python",
   "name": "python3"
  },
  "language_info": {
   "codemirror_mode": {
    "name": "ipython",
    "version": 3
   },
   "file_extension": ".py",
   "mimetype": "text/x-python",
   "name": "python",
   "nbconvert_exporter": "python",
   "pygments_lexer": "ipython3",
   "version": "3.11.0"
  },
  "orig_nbformat": 4,
  "vscode": {
   "interpreter": {
    "hash": "257315d336f6508fcbe635c8a3ca9dda0783ff9e0bb190c2803d4b86da7d8f80"
   }
  }
 },
 "nbformat": 4,
 "nbformat_minor": 2
}
