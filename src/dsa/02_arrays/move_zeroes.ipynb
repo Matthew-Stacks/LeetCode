{
 "cells": [
  {
   "attachments": {},
   "cell_type": "markdown",
   "metadata": {},
   "source": [
    "Given an integer array nums, move all 0's to the end of it while maintaining the relative order of the non-zero elements.\n",
    "\n",
    "Note that you must do this in-place without making a copy of the array.\n",
    "\n",
    " \n",
    "\n",
    "Example 1:\n",
    "\n",
    "Input: nums = [0,1,0,3,12]\n",
    "Output: [1,3,12,0,0]\n",
    "Example 2:\n",
    "\n",
    "Input: nums = [0]\n",
    "Output: [0]\n",
    " \n",
    "\n",
    "Constraints:\n",
    "\n",
    "1 <= nums.length <= 104\n",
    "-231 <= nums[i] <= 231 - 1\n",
    " \n",
    "\n",
    "Follow up: Could you minimize the total number of operations done?"
   ]
  },
  {
   "cell_type": "code",
   "execution_count": null,
   "metadata": {},
   "outputs": [],
   "source": [
    "def move_zeroes(nums: list[int]) -> None:\n",
    "    \"\"\"\n",
    "    Do not return anything, modify nums in-place instead.\n",
    "    \"\"\"\n",
    "    ptr = 0\n",
    "    for idx, _ in enumerate(nums):\n",
    "        if nums[idx] != 0:\n",
    "            nums[ptr], nums[idx] = nums[idx], nums[ptr]\n",
    "            ptr += 1"
   ]
  }
 ],
 "metadata": {
  "kernelspec": {
   "display_name": "Python 3",
   "language": "python",
   "name": "python3"
  },
  "language_info": {
   "name": "python",
   "version": "3.11.0 (main, Oct 24 2022, 18:26:48) [MSC v.1933 64 bit (AMD64)]"
  },
  "orig_nbformat": 4,
  "vscode": {
   "interpreter": {
    "hash": "257315d336f6508fcbe635c8a3ca9dda0783ff9e0bb190c2803d4b86da7d8f80"
   }
  }
 },
 "nbformat": 4,
 "nbformat_minor": 2
}
