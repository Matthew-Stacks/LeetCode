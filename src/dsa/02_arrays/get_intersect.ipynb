{
 "cells": [
  {
   "cell_type": "code",
   "execution_count": null,
   "metadata": {},
   "outputs": [],
   "source": [
    "from collections import Counter\n",
    "\n",
    "def get_intersect(nums1: list[int], nums2: list[int]) -> list[int]:\n",
    "    c = Counter(nums1) & Counter(nums2)\n",
    "    return list(c.elements())"
   ]
  }
 ],
 "metadata": {
  "language_info": {
   "name": "python"
  },
  "orig_nbformat": 4
 },
 "nbformat": 4,
 "nbformat_minor": 2
}
