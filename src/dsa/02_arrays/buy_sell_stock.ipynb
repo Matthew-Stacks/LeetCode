{
 "cells": [
  {
   "cell_type": "code",
   "execution_count": null,
   "metadata": {},
   "outputs": [],
   "source": [
    "class Solution:\n",
    "    def max_profit(self, prices: list[int]) -> int:\n",
    "        \"\"\"Return maximum profit.\n",
    "        \n",
    "        You are given an integer array `prices`\n",
    "        `prices[i]` is the price of a given stock on the ith day.\n",
    "\n",
    "        On each day, you may decide to buy and/or sell the stock.\n",
    "        You can only hold at most one share of the stock at any time.\n",
    "\n",
    "        Return the maximum profit you can achieve.\n",
    "        \"\"\"\n",
    "        return sum(max(0, prices[i+1] - prices[i]) for i in range(len(prices) - 1))"
   ]
  }
 ],
 "metadata": {
  "language_info": {
   "name": "python"
  },
  "orig_nbformat": 4
 },
 "nbformat": 4,
 "nbformat_minor": 2
}
