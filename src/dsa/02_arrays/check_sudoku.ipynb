{
 "cells": [
  {
   "cell_type": "code",
   "execution_count": null,
   "metadata": {},
   "outputs": [],
   "source": []
  }
 ],
 "metadata": {
  "kernelspec": {
   "display_name": "venv",
   "language": "python",
   "name": "python3"
  },
  "language_info": {
   "name": "python",
   "version": "3.11.0 (main, Oct 24 2022, 18:26:48) [MSC v.1933 64 bit (AMD64)]"
  },
  "orig_nbformat": 4,
  "vscode": {
   "interpreter": {
    "hash": "8cae3b89b53bb5e9a05c5340a7c6d5f0ecf7b56d570d7af5551b155313aa9af6"
   }
  }
 },
 "nbformat": 4,
 "nbformat_minor": 2
}
