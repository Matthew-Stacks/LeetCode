{
 "cells": [
  {
   "attachments": {},
   "cell_type": "markdown",
   "metadata": {},
   "source": [
    "# Rotate Image\n",
    "--------------\n",
    "\n",
    "You are given an n x n 2D matrix representing an image, rotate the image by 90 degrees (clockwise).\n",
    "\n",
    "You have to rotate the image in-place, which means you have to modify the input 2D matrix directly.\n",
    "DO NOT allocate another 2D matrix and do the rotation.\n",
    "\n",
    "**Example 1**\n",
    "Input: matrix = [[1,2,3], [4,5,6], [7,8,9]]\n",
    "Output: [[7,4,1], [8,5,2], [9,6,3]]\n",
    "\n",
    "**Example 2**\n",
    "Input: matrix = [[5,1,9,11], [2,4,8,10], [13,3,6,7], [15,14,12,16]]\n",
    "Output: [[15,13,2,5], [14,3,4,1], [12,6,8,9], [16,7,10,11]]\n",
    "\n",
    "**Constraints**\n",
    "n == matrix.length == matrix[i].length\n",
    "1 <= n <= 20\n",
    "-1000 <= matrix[i][j] <= 1000"
   ]
  },
  {
   "cell_type": "code",
   "execution_count": null,
   "metadata": {},
   "outputs": [],
   "source": [
    "class Solution:\n",
    "\n",
    "    def __init__(self, matrix: list[list[int]]) -> None:\n",
    "        self.matrix = matrix\n",
    "\n",
    "    def rotate(self, matrix: list[list[int]]) -> None:\n",
    "        \"\"\"\n",
    "        Do not return anything, modify matrix in-place instead.\n",
    "        \"\"\""
   ]
  }
 ],
 "metadata": {
  "language_info": {
   "name": "python"
  },
  "orig_nbformat": 4
 },
 "nbformat": 4,
 "nbformat_minor": 2
}
