{
 "cells": [
  {
   "attachments": {},
   "cell_type": "markdown",
   "metadata": {},
   "source": [
    "# Get Single Number\n",
    "-------------------\n",
    "\n",
    "Given a non-empty array of integers nums, every element appears twice except for one. Find that single one.\n",
    "\n",
    "You must implement a solution with a linear runtime complexity and use only constant extra space.\n",
    "\n",
    "Example 1:\n",
    "==========\n",
    "Input: nums = [2,2,1]\n",
    "Output: 1\n",
    "\n",
    "Example 2:\n",
    "==========\n",
    "Input: nums = [4,1,2,1,2]\n",
    "Output: 4\n",
    "\n",
    "Example 3:\n",
    "==========\n",
    "Input: nums = [1]\n",
    "Output: 1\n",
    "\n",
    "Constraints:\n",
    "\n",
    "1 <= nums.length <= 3 * 104\n",
    "-231 <= nums[i] <= 231 - 1\n",
    "Each element in nums appears exactly twice times except for one element which appears once."
   ]
  },
  {
   "cell_type": "code",
   "execution_count": null,
   "metadata": {},
   "outputs": [],
   "source": [
    "def get_single_number(nums: list[int]) -> int:\n",
    "    a: int = 0\n",
    "    for i in nums:\n",
    "        a ^= i\n",
    "    return a"
   ]
  },
  {
   "attachments": {},
   "cell_type": "markdown",
   "metadata": {},
   "source": [
    "This is actually a series of problems that test bit manipulation skills:\n",
    "\n",
    "\"Given an array of integers, every element appears\n",
    "\n",
    "k (k > 1) times\n",
    "\n",
    "except for one, which appears\n",
    "\n",
    "p times (p >= 1, p % k != 0)\n",
    "\n",
    "Find that single one.\""
   ]
  },
  {
   "cell_type": "code",
   "execution_count": null,
   "metadata": {},
   "outputs": [],
   "source": []
  }
 ],
 "metadata": {
  "kernelspec": {
   "display_name": "Python 3",
   "language": "python",
   "name": "python3"
  },
  "language_info": {
   "name": "python",
   "version": "3.11.0 (main, Oct 24 2022, 18:26:48) [MSC v.1933 64 bit (AMD64)]"
  },
  "orig_nbformat": 4,
  "vscode": {
   "interpreter": {
    "hash": "257315d336f6508fcbe635c8a3ca9dda0783ff9e0bb190c2803d4b86da7d8f80"
   }
  }
 },
 "nbformat": 4,
 "nbformat_minor": 2
}
